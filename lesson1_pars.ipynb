{
 "cells": [
  {
   "cell_type": "markdown",
   "id": "4a70acb4",
   "metadata": {},
   "source": [
    "### Посмотреть документацию к API GitHub, разобраться как вывести список\n",
    "### репозиториев для конкретного пользователя, сохранить JSON-вывод в файле\n",
    "### *.json."
   ]
  },
  {
   "cell_type": "code",
   "execution_count": 5,
   "id": "8dff19aa",
   "metadata": {},
   "outputs": [],
   "source": [
    "import requests\n",
    "import json"
   ]
  },
  {
   "cell_type": "code",
   "execution_count": 7,
   "id": "56b404c2",
   "metadata": {},
   "outputs": [
    {
     "name": "stdout",
     "output_type": "stream",
     "text": [
      "Получен результат\n",
      "[{'id': 552428136, 'node_id': 'R_kgDOIO1iaA', 'name': 'pythone', 'full_name': 'cybermonk777/pythone', 'private': False, 'owner': {'login': 'cybermonk777', 'id': 115939172, 'node_id': 'U_kgDOBukXZA', 'avatar_url': 'https://avatars.githubusercontent.com/u/115939172?v=4', 'gravatar_id': '', 'url': 'https://api.github.com/users/cybermonk777', 'html_url': 'https://github.com/cybermonk777', 'followers_url': 'https://api.github.com/users/cybermonk777/followers', 'following_url': 'https://api.github.com/users/cybermonk777/following{/other_user}', 'gists_url': 'https://api.github.com/users/cybermonk777/gists{/gist_id}', 'starred_url': 'https://api.github.com/users/cybermonk777/starred{/owner}{/repo}', 'subscriptions_url': 'https://api.github.com/users/cybermonk777/subscriptions', 'organizations_url': 'https://api.github.com/users/cybermonk777/orgs', 'repos_url': 'https://api.github.com/users/cybermonk777/repos', 'events_url': 'https://api.github.com/users/cybermonk777/events{/privacy}', 'received_events_url': 'https://api.github.com/users/cybermonk777/received_events', 'type': 'User', 'site_admin': False}, 'html_url': 'https://github.com/cybermonk777/pythone', 'description': None, 'fork': False, 'url': 'https://api.github.com/repos/cybermonk777/pythone', 'forks_url': 'https://api.github.com/repos/cybermonk777/pythone/forks', 'keys_url': 'https://api.github.com/repos/cybermonk777/pythone/keys{/key_id}', 'collaborators_url': 'https://api.github.com/repos/cybermonk777/pythone/collaborators{/collaborator}', 'teams_url': 'https://api.github.com/repos/cybermonk777/pythone/teams', 'hooks_url': 'https://api.github.com/repos/cybermonk777/pythone/hooks', 'issue_events_url': 'https://api.github.com/repos/cybermonk777/pythone/issues/events{/number}', 'events_url': 'https://api.github.com/repos/cybermonk777/pythone/events', 'assignees_url': 'https://api.github.com/repos/cybermonk777/pythone/assignees{/user}', 'branches_url': 'https://api.github.com/repos/cybermonk777/pythone/branches{/branch}', 'tags_url': 'https://api.github.com/repos/cybermonk777/pythone/tags', 'blobs_url': 'https://api.github.com/repos/cybermonk777/pythone/git/blobs{/sha}', 'git_tags_url': 'https://api.github.com/repos/cybermonk777/pythone/git/tags{/sha}', 'git_refs_url': 'https://api.github.com/repos/cybermonk777/pythone/git/refs{/sha}', 'trees_url': 'https://api.github.com/repos/cybermonk777/pythone/git/trees{/sha}', 'statuses_url': 'https://api.github.com/repos/cybermonk777/pythone/statuses/{sha}', 'languages_url': 'https://api.github.com/repos/cybermonk777/pythone/languages', 'stargazers_url': 'https://api.github.com/repos/cybermonk777/pythone/stargazers', 'contributors_url': 'https://api.github.com/repos/cybermonk777/pythone/contributors', 'subscribers_url': 'https://api.github.com/repos/cybermonk777/pythone/subscribers', 'subscription_url': 'https://api.github.com/repos/cybermonk777/pythone/subscription', 'commits_url': 'https://api.github.com/repos/cybermonk777/pythone/commits{/sha}', 'git_commits_url': 'https://api.github.com/repos/cybermonk777/pythone/git/commits{/sha}', 'comments_url': 'https://api.github.com/repos/cybermonk777/pythone/comments{/number}', 'issue_comment_url': 'https://api.github.com/repos/cybermonk777/pythone/issues/comments{/number}', 'contents_url': 'https://api.github.com/repos/cybermonk777/pythone/contents/{+path}', 'compare_url': 'https://api.github.com/repos/cybermonk777/pythone/compare/{base}...{head}', 'merges_url': 'https://api.github.com/repos/cybermonk777/pythone/merges', 'archive_url': 'https://api.github.com/repos/cybermonk777/pythone/{archive_format}{/ref}', 'downloads_url': 'https://api.github.com/repos/cybermonk777/pythone/downloads', 'issues_url': 'https://api.github.com/repos/cybermonk777/pythone/issues{/number}', 'pulls_url': 'https://api.github.com/repos/cybermonk777/pythone/pulls{/number}', 'milestones_url': 'https://api.github.com/repos/cybermonk777/pythone/milestones{/number}', 'notifications_url': 'https://api.github.com/repos/cybermonk777/pythone/notifications{?since,all,participating}', 'labels_url': 'https://api.github.com/repos/cybermonk777/pythone/labels{/name}', 'releases_url': 'https://api.github.com/repos/cybermonk777/pythone/releases{/id}', 'deployments_url': 'https://api.github.com/repos/cybermonk777/pythone/deployments', 'created_at': '2022-10-16T15:17:52Z', 'updated_at': '2022-10-16T16:05:23Z', 'pushed_at': '2022-10-16T16:05:19Z', 'git_url': 'git://github.com/cybermonk777/pythone.git', 'ssh_url': 'git@github.com:cybermonk777/pythone.git', 'clone_url': 'https://github.com/cybermonk777/pythone.git', 'svn_url': 'https://github.com/cybermonk777/pythone', 'homepage': None, 'size': 3, 'stargazers_count': 0, 'watchers_count': 0, 'language': 'Jupyter Notebook', 'has_issues': True, 'has_projects': True, 'has_downloads': True, 'has_wiki': True, 'has_pages': False, 'has_discussions': False, 'forks_count': 0, 'mirror_url': None, 'archived': False, 'disabled': False, 'open_issues_count': 0, 'license': None, 'allow_forking': True, 'is_template': False, 'web_commit_signoff_required': False, 'topics': [], 'visibility': 'public', 'forks': 0, 'open_issues': 0, 'watchers': 0, 'default_branch': 'main'}]\n",
      "Список репозиториев пользователя cybermonk777\n",
      "['pythone']\n"
     ]
    }
   ],
   "source": [
    "import time\n",
    "\n",
    "def get_data(url: str) -> dict:\n",
    "    while True:\n",
    "        time.sleep(1)\n",
    "        response = requests.get(url)\n",
    "        if response.status_code == 200:\n",
    "            break\n",
    "    return response.json()\n",
    "\n",
    "# username = input('Введите username: ')\n",
    "username = 'cybermonk777'\n",
    "# if username == '' else username\n",
    "url = 'https://api.github.com/users/'+username+'/repos'\n",
    "\n",
    "response = get_data(url)\n",
    "print('Получен результат')\n",
    "print(response)\n",
    "\n",
    "repo = []\n",
    "for itm in response:\n",
    "    repo.append(itm['name'])\n",
    "print(f'Список репозиториев пользователя {username}')\n",
    "print(repo)\n",
    "\n",
    "with open('1_1_repo.json', 'w') as f:\n",
    "    json_repo = json.dump(repo, f)\n"
   ]
  },
  {
   "cell_type": "code",
   "execution_count": 4,
   "id": "92c3cdba",
   "metadata": {},
   "outputs": [
    {
     "name": "stdout",
     "output_type": "stream",
     "text": [
      "pythone\n"
     ]
    }
   ],
   "source": []
  },
  {
   "cell_type": "code",
   "execution_count": null,
   "id": "233c1321",
   "metadata": {},
   "outputs": [],
   "source": []
  }
 ],
 "metadata": {
  "kernelspec": {
   "display_name": "Python 3 (ipykernel)",
   "language": "python",
   "name": "python3"
  },
  "language_info": {
   "codemirror_mode": {
    "name": "ipython",
    "version": 3
   },
   "file_extension": ".py",
   "mimetype": "text/x-python",
   "name": "python",
   "nbconvert_exporter": "python",
   "pygments_lexer": "ipython3",
   "version": "3.9.12"
  }
 },
 "nbformat": 4,
 "nbformat_minor": 5
}
