{
 "cells": [
  {
   "cell_type": "markdown",
   "id": "0628282b",
   "metadata": {},
   "source": [
    "\"\"\"\n",
    "    2. Изучить список открытых API (https://www.programmableweb.com/category/all/apis).\n",
    "    Найти среди них любое, требующее авторизацию (любого типа). Выполнить запросы к нему, пройдя авторизацию.\n",
    "    Ответ сервера записать в файл.\n",
    "    Если нет желания заморачиваться с поиском, возьмите API вконтакте (https://vk.com/dev/first_guide).\n",
    "    Сделайте запрос, чтб получить список всех сообществ на которые вы подписаны.\n",
    "\"\"\""
   ]
  },
  {
   "cell_type": "code",
   "execution_count": 3,
   "id": "13d74412",
   "metadata": {},
   "outputs": [],
   "source": [
    "import requests\n",
    "import json"
   ]
  },
  {
   "cell_type": "code",
   "execution_count": 4,
   "id": "05140a99",
   "metadata": {},
   "outputs": [
    {
     "name": "stdout",
     "output_type": "stream",
     "text": [
      "Found 42 flights in the sky on request AFL:\n",
      "_______________________________________________________\n",
      "|    Flight     |Departure | Arrival  | Aircraft_type |\n",
      "-------------------------------------------------------\n",
      "|        SU1710 |      SVO |      KHV |          B77W |\n",
      "|         SU422 |      SVO |      HRG |          A333 |\n",
      "|        SU1522 |      SVO |      NUX |          A321 |\n",
      "|        SU1701 |      VVO |      SVO |          B77W |\n",
      "|        SU1731 |      PKC |      SVO |          B77W |\n",
      "|        SU1443 |      IKT |      SVO |          B738 |\n",
      "|        SU1479 |      ABA |      SVO |          A20N |\n",
      "|         SU424 |      SVO |      HRG |          B738 |\n",
      "|        SU1485 |      KJA |      SVO |          A20N |\n",
      "|         SU630 |      SVX |      IST |          B738 |\n",
      "|        SU1943 |      ALA |      SVO |          A320 |\n",
      "|        SU1315 |      MRV |      SVO |          A320 |\n",
      "|        SU1122 |      SVO |      AER |          B738 |\n",
      "|        SU1483 |      KJA |      SVO |          B738 |\n",
      "|        SU1483 |      KJA |      SVO |          B738 |\n",
      "|        SU1230 |      SVO |      UFA |          A320 |\n",
      "|        SU1703 |      VVO |      SVO |          B77W |\n",
      "|        SU1444 |      SVO |      IKT |          B738 |\n",
      "|        SU1310 |      SVO |      MRV |          A320 |\n",
      "|        SU1460 |      SVO |      OVB |          A20N |\n",
      "|        SU1872 |      SVO |      TAS |          B738 |\n",
      "|        SU1052 |      SVO |      MCX |          A320 |\n",
      "|        SU1563 |      IKT |      SVO |          B738 |\n",
      "|        SU1307 |      OVB |      SVO |          A320 |\n",
      "|        SU1498 |      SVO |      GRV |          A320 |\n",
      "|          SU14 |      SVO |      LED |          A320 |\n",
      "|        SU1854 |      SVO |      GYD |          A320 |\n",
      "|        SU1525 |      RGK |      SVO |          B738 |\n",
      "|        SU2130 |          |          |          A321 |\n",
      "|        SU1344 |      SVO |      MRV |          A320 |\n",
      "|        SU1136 |      SVO |      AER |          A321 |\n",
      "|        SU1200 |      SVO |      PEE |          A321 |\n",
      "|         SU233 |      DEL |      SVO |          B77W |\n",
      "|        SU1713 |      KHV |      SVO |          B77W |\n",
      "|         SU321 |      MLE |      SVO |          B77W |\n",
      "|           SU7 |      LED |      SVO |          A321 |\n",
      "|        SU1412 |      SVO |      SVX |          A320 |\n",
      "|         SU273 |      BKK |      SVO |          B77W |\n",
      "|        SU1678 |      SVO |      ASF |          A320 |\n",
      "|        SU1002 |      SVO |      KGD |          A320 |\n",
      "|        SU1603 |      KUF |      SVO |          A320 |\n",
      "|        SU7112 |          |          |          A320 |\n"
     ]
    }
   ],
   "source": [
    "url = \"https://flight-data4.p.rapidapi.com/get_airline_flights\"\n",
    "\n",
    "params = {\"airline\": \"AFL\"}\n",
    "\n",
    "headers = {\n",
    "    'x-rapidapi-key': \"ec8bd94033msh7e34f65c59fba16p18be8djsnbe425e0e155b\",\n",
    "    'x-rapidapi-host': \"flight-data4.p.rapidapi.com\"\n",
    "}\n",
    "\n",
    "response = requests.get(url, headers=headers, params=params)\n",
    "\n",
    "# Сохранение в файл\n",
    "\n",
    "with open(f'{\"info_\" + params.get(\"airline\")}.json', 'w') as outfile:\n",
    "    json.dump(response.json(), outfile)\n",
    "\n",
    "# Печать результата\n",
    "\n",
    "print(f'Found {len(response.json())} flights in the sky on request'\n",
    "      f' {params.get(\"airline\")}:\\n'\n",
    "      f'{\"_\" * 55}\\n'\n",
    "      f'|{\"Flight\": ^15}'\n",
    "      f'|{\"Departure\": ^10}'\n",
    "      f'|{\"Arrival\": ^10}'\n",
    "      f'|{\"Aircraft_type\": ^15}|'\n",
    "      f'\\n{\"-\" * 55}')\n",
    "flights = response.json()\n",
    "\n",
    "for flight in flights:\n",
    "    print(f'|{flight.get(\"flight\") + \" \": >15}'\n",
    "          f'|{flight.get(\"departure\") + \" \": >10}'\n",
    "          f'|{flight.get(\"arrival\") + \" \": >10}'\n",
    "          f'|{flight.get(\"type\") + \" \": >15}|')"
   ]
  },
  {
   "cell_type": "code",
   "execution_count": null,
   "id": "bff9ff29",
   "metadata": {},
   "outputs": [],
   "source": []
  }
 ],
 "metadata": {
  "kernelspec": {
   "display_name": "Python 3 (ipykernel)",
   "language": "python",
   "name": "python3"
  },
  "language_info": {
   "codemirror_mode": {
    "name": "ipython",
    "version": 3
   },
   "file_extension": ".py",
   "mimetype": "text/x-python",
   "name": "python",
   "nbconvert_exporter": "python",
   "pygments_lexer": "ipython3",
   "version": "3.9.12"
  }
 },
 "nbformat": 4,
 "nbformat_minor": 5
}
